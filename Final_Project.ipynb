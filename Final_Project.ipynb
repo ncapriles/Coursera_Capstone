{
 "cells": [
  {
   "cell_type": "markdown",
   "metadata": {},
   "source": [
    "## 1. Introduction/Business Problem\n",
    "\n",
    "\n",
    "Travelers nowadays are constantly trying to find destinations that offer high quality food and drink for a fair price. Businesses also have to keep track of their neighborhood in order to understand their competitors and make strategic location decisions.\n",
    "\n",
    "In this project, I'll try to check if its possible to cluster the neighborhoods in Boston, MA by taking into account the quality and cost of the venues located per neighborhood. The main objective of this analysis is to **determine the areas in the selected destinations that would be a good option for visitors looking for _cheap, high quality eating and drinking_.** A secondary objective is to offer an overview of the competition to the business owners in their same neighborhood.\n"
   ]
  },
  {
   "cell_type": "markdown",
   "metadata": {},
   "source": [
    "## 2. Data\n",
    "\n",
    "For this project, I'll use the Foursquare API and a dataset with all US zipcodes downloaded from the [simplemaps website](https://simplemaps.com/data/us-zips)."
   ]
  },
  {
   "cell_type": "markdown",
   "metadata": {},
   "source": [
    "I'll split the selected destination based on the zip codes provided in the zip code dataset and I'll obtain the data related to the trending venues per neighborhood, the rating obtained by each venue and the \"price\" category it belongs to from the Foursquare API."
   ]
  },
  {
   "cell_type": "markdown",
   "metadata": {},
   "source": [
    "### 2.1 Foursquare API\n",
    "\n",
    "The Foursquare API is a good source for information on popular venues per location. "
   ]
  },
  {
   "cell_type": "code",
   "execution_count": 198,
   "metadata": {
    "scrolled": true
   },
   "outputs": [],
   "source": [
    "import pandas as pd\n",
    "import requests\n",
    "import json\n",
    "from pandas.io.json import json_normalize\n",
    "\n",
    "import matplotlib.pyplot as plt; plt.rcdefaults()\n",
    "import numpy as np\n",
    "import matplotlib.pyplot as plt"
   ]
  },
  {
   "cell_type": "markdown",
   "metadata": {},
   "source": [
    "To get the venues around an specific area, we use the \"search\" end point and provide the latitude and longitude of the specific location. Let's say we decide to get the venues around an specific zipcode, this is how it would work:"
   ]
  },
  {
   "cell_type": "code",
   "execution_count": null,
   "metadata": {
    "scrolled": true
   },
   "outputs": [],
   "source": [
    "CLIENT_ID='AEO45ABRSDOJNO0RZOSZHLORAT5U52BBC1FNH0OEVZSX5UXP'\n",
    "CLIENT_SECRET='VDWRYWJIWT3UH4JOA0SACQXRP322BBQUQWKL5TDZXHSBE5VP'\n",
    "latitude=42.3577\n",
    "longitude=-71.0651\n",
    "VERSION='20180604'\n",
    "radius=200\n",
    "LIMIT='5'"
   ]
  },
  {
   "cell_type": "code",
   "execution_count": null,
   "metadata": {
    "scrolled": false
   },
   "outputs": [],
   "source": [
    "url = 'https://api.foursquare.com/v2/venues/explore?client_id={}&client_secret={}&ll={},{}&v={}&radius={}&limit={}'.format(CLIENT_ID, CLIENT_SECRET, latitude, longitude, VERSION, radius, LIMIT)\n",
    "results = requests.get(url).json()\n",
    "results"
   ]
  },
  {
   "cell_type": "code",
   "execution_count": null,
   "metadata": {
    "scrolled": true
   },
   "outputs": [],
   "source": [
    "#get relevant information from JSON\n",
    "info=results['response']['groups'][0]['items']\n",
    "info[0]"
   ]
  },
  {
   "cell_type": "code",
   "execution_count": null,
   "metadata": {},
   "outputs": [],
   "source": [
    "df = json_normalize(info)\n",
    "df_filtered=df[['venue.name','venue.id','venue.location.postalCode']]\n",
    "df_filtered.rename(columns={'venue.name':'name','venue.id':'id','venue.location.postalCode':'postalCode'},inplace=True)"
   ]
  },
  {
   "cell_type": "markdown",
   "metadata": {},
   "source": [
    "Turn info into a dataframe (using the code from one of the labs in the course)"
   ]
  },
  {
   "cell_type": "code",
   "execution_count": null,
   "metadata": {
    "scrolled": true
   },
   "outputs": [],
   "source": [
    "def get_category_type(row):\n",
    "    try:\n",
    "        categories_list = row['categories']\n",
    "    except:\n",
    "        categories_list = row['venue.categories']\n",
    "        \n",
    "    if len(categories_list) == 0:\n",
    "        return None\n",
    "    else:\n",
    "        return categories_list[0]['name']"
   ]
  },
  {
   "cell_type": "code",
   "execution_count": null,
   "metadata": {
    "scrolled": true
   },
   "outputs": [],
   "source": [
    "df = json_normalize(info) # flatten JSON\n",
    "\n",
    "# filter columns\n",
    "filtered_columns = ['venue.name', 'venue.categories'] + [col for col in df.columns if col.startswith('venue.location.')] + ['venue.id']\n",
    "df_filtered = df.loc[:, filtered_columns]\n",
    "\n",
    "# filter the category for each row\n",
    "df_filtered['venue.categories'] = df_filtered.apply(get_category_type, axis=1)\n",
    "\n",
    "# clean columns\n",
    "df_filtered.columns = [col.split('.')[-1] for col in df_filtered.columns]\n",
    "\n",
    "df_filtered.head()"
   ]
  },
  {
   "cell_type": "markdown",
   "metadata": {},
   "source": [
    "I can get the venues ratings using the venues ids and getting it from the API"
   ]
  },
  {
   "cell_type": "code",
   "execution_count": null,
   "metadata": {
    "scrolled": true
   },
   "outputs": [],
   "source": [
    "venues_ids=df_filtered['id']\n",
    "venues_ids"
   ]
  },
  {
   "cell_type": "code",
   "execution_count": null,
   "metadata": {
    "scrolled": true
   },
   "outputs": [],
   "source": [
    "df_filtered['rating']=0"
   ]
  },
  {
   "cell_type": "code",
   "execution_count": null,
   "metadata": {
    "scrolled": true
   },
   "outputs": [],
   "source": [
    "venue_id='4a549cd9f964a5202ab31fe3'\n",
    "url='https://api.foursquare.com/v2/venues/{}?client_id={}&client_secret={}&v={}'.format(venue_id, CLIENT_ID, CLIENT_SECRET, VERSION)\n",
    "result = requests.get(url).json()\n",
    "result"
   ]
  },
  {
   "cell_type": "code",
   "execution_count": null,
   "metadata": {
    "scrolled": true
   },
   "outputs": [],
   "source": [
    "for venue_id, i in zip(venues_ids,range(0,len(venues_ids))):\n",
    "    url='https://api.foursquare.com/v2/venues/{}?client_id={}&client_secret={}&v={}'.format(venue_id, CLIENT_ID, CLIENT_SECRET, VERSION)\n",
    "    result = requests.get(url).json()\n",
    "    df_filtered['rating'].loc[i]=result['response']['venue']['rating']\n",
    "    try:\n",
    "        print(result['response']['venue']['rating'])\n",
    "    except:\n",
    "        print('This venue has not been rated yet.')"
   ]
  },
  {
   "cell_type": "code",
   "execution_count": null,
   "metadata": {
    "scrolled": true
   },
   "outputs": [],
   "source": [
    "df_filtered"
   ]
  },
  {
   "cell_type": "markdown",
   "metadata": {},
   "source": [
    "After that, we only need to repeat this for all neighborhoods and apply the clustering to find if it is possible to say which neighborhoods are a \"cheap-high quality\" option for the visitors."
   ]
  },
  {
   "cell_type": "markdown",
   "metadata": {},
   "source": [
    "### 2.2 US zip codes dataset\n",
    "\n",
    "Here is how the US zip code dataset looks like.\n",
    "\n",
    "\n",
    "In order to use the dataset, I downloaded it as a csv file into my computer from [this link](https://simplemaps.com/data/us-zips)."
   ]
  },
  {
   "cell_type": "code",
   "execution_count": null,
   "metadata": {
    "scrolled": true
   },
   "outputs": [],
   "source": [
    "path='/Users/nicolecapriles/Documents/uszips.csv'\n",
    "zipcodes=pd.read_csv(path) "
   ]
  },
  {
   "cell_type": "markdown",
   "metadata": {},
   "source": [
    "The dataset contains the zip codes for all states in the US, their longitude and latitude and some other information. Check the headers below"
   ]
  },
  {
   "cell_type": "code",
   "execution_count": null,
   "metadata": {
    "scrolled": true
   },
   "outputs": [],
   "source": [
    "zipcodes.head()"
   ]
  },
  {
   "cell_type": "markdown",
   "metadata": {},
   "source": [
    "I'll only need the zip code, latitude, longitude city and state. So we can drop all other columns in the dataframe."
   ]
  },
  {
   "cell_type": "code",
   "execution_count": null,
   "metadata": {
    "scrolled": true
   },
   "outputs": [],
   "source": [
    "columns_drop=['zcta','parent_zcta','population','density','county_fips','county_name','all_county_weights','imprecise','military','timezone']\n",
    "zipcodes.drop(columns_drop,axis=1,inplace=True)"
   ]
  },
  {
   "cell_type": "code",
   "execution_count": null,
   "metadata": {
    "scrolled": true
   },
   "outputs": [],
   "source": [
    "zipcodes.head()"
   ]
  },
  {
   "cell_type": "markdown",
   "metadata": {},
   "source": [
    "Since I'll run the project with an specific destination (Boston), we can split this dataset to obtain the zipcodes per city."
   ]
  },
  {
   "cell_type": "code",
   "execution_count": 199,
   "metadata": {
    "scrolled": true
   },
   "outputs": [],
   "source": [
    "Boston_zipcodes=zipcodes[(zipcodes['state_id']=='MA')&(zipcodes['city']=='Boston')]"
   ]
  },
  {
   "cell_type": "markdown",
   "metadata": {},
   "source": [
    "These dataset contains the group of zipcodes I'll use to obtain the venues from the Foursquare API."
   ]
  },
  {
   "cell_type": "markdown",
   "metadata": {},
   "source": [
    "## 3. Methodology\n",
    "\n",
    "These are the steps required to complete the project:\n",
    "1. Obtain the data from the US zipcodes dataset.\n",
    "2. Get the venues' names for the selected zip codes.\n",
    "3. Arrange the data to fit it into the kmeans model.\n",
    "4. Use kmeans clustering to cluster the neighborhoods based on the rating and prices of the venues.\n",
    "5. Analyze the clustering results."
   ]
  },
  {
   "cell_type": "markdown",
   "metadata": {},
   "source": [
    "## 4. Results\n",
    "### Boston, MA\n",
    "\n",
    "First, let's check how many zipcodes we have available for the city by checking the shape of the dataframe."
   ]
  },
  {
   "cell_type": "code",
   "execution_count": 200,
   "metadata": {},
   "outputs": [
    {
     "data": {
      "text/plain": [
       "(14, 6)"
      ]
     },
     "execution_count": 200,
     "metadata": {},
     "output_type": "execute_result"
    }
   ],
   "source": [
    "#Check how many zip codes we have for Boston by getting the dataframe's shape\n",
    "Boston_zipcodes.shape"
   ]
  },
  {
   "cell_type": "markdown",
   "metadata": {},
   "source": [
    "### (a) Get venues per zipcode"
   ]
  },
  {
   "cell_type": "markdown",
   "metadata": {},
   "source": [
    "Let's define a function that allows us to get the venues for an specific latitude and logitude easily."
   ]
  },
  {
   "cell_type": "code",
   "execution_count": null,
   "metadata": {},
   "outputs": [],
   "source": [
    "def get_venue_info(CLIENT_ID,CLIENT_SECRET,latitude,longitude,VERSION,radius,LIMIT):\n",
    "    url='https://api.foursquare.com/v2/venues/explore?client_id={}&client_secret={}&ll={},{}&v={}&radius={}&limit={}'.format(CLIENT_ID, CLIENT_SECRET, latitude, longitude, VERSION, radius, LIMIT)\n",
    "    \n",
    "    response=requests.get(url)\n",
    "    results=response.json()\n",
    "    \n",
    "    if response.status_code==200:\n",
    "        info=results['response']['groups'][0]['items']\n",
    "       \n",
    "        df=json_normalize(info)\n",
    "        \n",
    "        try:\n",
    "            df_filtered=df[['venue.name','venue.id','venue.location.postalCode']]\n",
    "            df_filtered.rename(columns={'venue.name':'name','venue.id':'id','venue.location.postalCode':'postalCode'},inplace=True)\n",
    "        \n",
    "            return df_filtered\n",
    "    \n",
    "        except:\n",
    "            return None\n",
    "        \n",
    "    elif response.status_code!=200:\n",
    "        \n",
    "        return None"
   ]
  },
  {
   "cell_type": "markdown",
   "metadata": {},
   "source": [
    "I'll create an empty dictionary that will hold all the dataframes generated per zipcode. The keys of this dictionary will by the zipcodes for a city."
   ]
  },
  {
   "cell_type": "code",
   "execution_count": null,
   "metadata": {},
   "outputs": [],
   "source": [
    "d = {zipcode: pd.DataFrame() for zipcode in Boston_zipcodes['zip']}"
   ]
  },
  {
   "cell_type": "markdown",
   "metadata": {},
   "source": [
    "Now that all is set up, we can go ahead and run a loop to fill the created dictionary with the information desired about the searched venues in the Foursquare API. "
   ]
  },
  {
   "cell_type": "code",
   "execution_count": null,
   "metadata": {},
   "outputs": [],
   "source": [
    "CLIENT_ID='AEO45ABRSDOJNO0RZOSZHLORAT5U52BBC1FNH0OEVZSX5UXP' \n",
    "CLIENT_SECRET='VDWRYWJIWT3UH4JOA0SACQXRP322BBQUQWKL5TDZXHSBE5VP'\n",
    "VERSION='20180604'\n",
    "radius=200 #search radius around specified location\n",
    "LIMIT='10' #number of venues you'd like to see per location. I chose 10 venues per zipcode.\n",
    "\n",
    "for zipcode in Boston_zipcodes['zip']:\n",
    "    #First get the latitude and longitude for the specific zipcode from the zipcodes data.\n",
    "    latitude=float(Boston_zipcodes['lat'][Boston_zipcodes['zip']==zipcode])\n",
    "    longitude=float(Boston_zipcodes['lng'][Boston_zipcodes['zip']==zipcode])\n",
    "    \n",
    "    #run the defined function for that location and save it into the dictionary.\n",
    "    d[zipcode]=get_venue_info(CLIENT_ID,CLIENT_SECRET,latitude,longitude,VERSION,radius,LIMIT)"
   ]
  },
  {
   "cell_type": "code",
   "execution_count": null,
   "metadata": {},
   "outputs": [],
   "source": [
    "#Create an empty dataframe to put all information together\n",
    "df=pd.DataFrame()\n",
    "keys=list(d.keys())"
   ]
  },
  {
   "cell_type": "code",
   "execution_count": null,
   "metadata": {},
   "outputs": [],
   "source": [
    "#loop through each key in the dictionary to make one dataframe with the selected venues information per zipcode.\n",
    "for i in range(len(keys)):\n",
    "    df=df.append(d[keys[i]])\n",
    "    \n",
    "df.reset_index(drop=True,inplace=True)"
   ]
  },
  {
   "cell_type": "markdown",
   "metadata": {},
   "source": [
    "Now we have a dataframe that contains the ten top venues per zipcode with the venue names and ids."
   ]
  },
  {
   "cell_type": "code",
   "execution_count": null,
   "metadata": {},
   "outputs": [],
   "source": [
    "df.head()"
   ]
  },
  {
   "cell_type": "markdown",
   "metadata": {},
   "source": [
    "### (b) Get venue details"
   ]
  },
  {
   "cell_type": "markdown",
   "metadata": {},
   "source": [
    "Now that we have the venue information, we can get the details on each venue using the venue id. Let's create a function that allows us to easily get them by providing the venue_id we got in the previous step."
   ]
  },
  {
   "cell_type": "code",
   "execution_count": null,
   "metadata": {},
   "outputs": [],
   "source": [
    "def get_venue_details(venue_id,CLIENT_ID, CLIENT_SECRET, VERSION):\n",
    "    url='https://api.foursquare.com/v2/venues/{}?client_id={}&client_secret={}&v={}'.format(venue_id, CLIENT_ID, CLIENT_SECRET, VERSION)\n",
    "    response=requests.get(url)\n",
    "    results=response.json()\n",
    "    \n",
    "    if response.status_code==200:\n",
    "        try:\n",
    "            rating=results['response']['venue']['rating']\n",
    "        except:\n",
    "            rating=0\n",
    "            \n",
    "        try:\n",
    "            price=results['response']['venue']['price']['tier']\n",
    "        except:\n",
    "            price=0\n",
    "        \n",
    "        venue_details=pd.DataFrame([[venue_id,rating, price]],columns=['id','rating','price'])\n",
    "        \n",
    "        return venue_details\n",
    "    \n",
    "    elif response.status_code!=200:\n",
    "        venue_details_error=pd.DataFrame([[venue_id,0,0]],columns=['id','rating','price'])\n",
    "        \n",
    "        return venue_details_error"
   ]
  },
  {
   "cell_type": "code",
   "execution_count": null,
   "metadata": {},
   "outputs": [],
   "source": [
    "venues_ids=df['id']\n",
    "v = {venue: pd.DataFrame() for venue in venues_ids}"
   ]
  },
  {
   "cell_type": "code",
   "execution_count": null,
   "metadata": {},
   "outputs": [],
   "source": [
    "for venue_id in venues_ids:\n",
    "    v[venue_id]=get_venue_details(venue_id,CLIENT_ID, CLIENT_SECRET, VERSION)"
   ]
  },
  {
   "cell_type": "code",
   "execution_count": null,
   "metadata": {},
   "outputs": [],
   "source": [
    "#Create an empty dataframe to put all information together\n",
    "df_details=pd.DataFrame()\n",
    "keys_details=list(v.keys())"
   ]
  },
  {
   "cell_type": "code",
   "execution_count": null,
   "metadata": {},
   "outputs": [],
   "source": [
    "for i in range(len(keys_details)):\n",
    "    df_details=df_details.append(v[keys_details[i]])\n",
    "    \n",
    "df_details.reset_index(drop=True,inplace=True)"
   ]
  },
  {
   "cell_type": "markdown",
   "metadata": {},
   "source": [
    "### (c) Put both dataframes together.\n",
    "\n",
    "Now we join the dataframes resulted from the first step (venues names per zipcode) and the second step (venues details) using the _merge_ method."
   ]
  },
  {
   "cell_type": "code",
   "execution_count": 202,
   "metadata": {},
   "outputs": [],
   "source": [
    "final_df=pd.merge(df_details,df,on='id')"
   ]
  },
  {
   "cell_type": "markdown",
   "metadata": {},
   "source": [
    "Since the calls to get the venue details are limited, I'll save this dataframe to my computer so that I can access it any time without having to make the calls again."
   ]
  },
  {
   "cell_type": "code",
   "execution_count": 203,
   "metadata": {},
   "outputs": [],
   "source": [
    "export_csv=final_df.to_csv(r'/Users/nicolecapriles/Desktop/Boston_venues.csv', index = None, header=True)"
   ]
  },
  {
   "cell_type": "markdown",
   "metadata": {},
   "source": [
    "### (d) Use k-mean clustering to cluster the neighborhoods based on the price tier and rating."
   ]
  },
  {
   "cell_type": "code",
   "execution_count": 204,
   "metadata": {},
   "outputs": [],
   "source": [
    "# import k-means from clustering stage\n",
    "from sklearn.cluster import KMeans"
   ]
  },
  {
   "cell_type": "markdown",
   "metadata": {},
   "source": [
    "First, I need to prepare the dataset so that it can be an input to the kmeans algorihtm."
   ]
  },
  {
   "cell_type": "code",
   "execution_count": 205,
   "metadata": {},
   "outputs": [
    {
     "data": {
      "text/html": [
       "<div>\n",
       "<style scoped>\n",
       "    .dataframe tbody tr th:only-of-type {\n",
       "        vertical-align: middle;\n",
       "    }\n",
       "\n",
       "    .dataframe tbody tr th {\n",
       "        vertical-align: top;\n",
       "    }\n",
       "\n",
       "    .dataframe thead th {\n",
       "        text-align: right;\n",
       "    }\n",
       "</style>\n",
       "<table border=\"1\" class=\"dataframe\">\n",
       "  <thead>\n",
       "    <tr style=\"text-align: right;\">\n",
       "      <th></th>\n",
       "      <th>rating</th>\n",
       "      <th>price</th>\n",
       "      <th>name</th>\n",
       "      <th>postalCode</th>\n",
       "    </tr>\n",
       "  </thead>\n",
       "  <tbody>\n",
       "    <tr>\n",
       "      <th>0</th>\n",
       "      <td>8.7</td>\n",
       "      <td>0</td>\n",
       "      <td>Frog Pond</td>\n",
       "      <td>02108</td>\n",
       "    </tr>\n",
       "    <tr>\n",
       "      <th>1</th>\n",
       "      <td>8.5</td>\n",
       "      <td>4</td>\n",
       "      <td>No. 9 Park</td>\n",
       "      <td>02108</td>\n",
       "    </tr>\n",
       "    <tr>\n",
       "      <th>2</th>\n",
       "      <td>8.1</td>\n",
       "      <td>2</td>\n",
       "      <td>Union Club of Boston</td>\n",
       "      <td>02108</td>\n",
       "    </tr>\n",
       "    <tr>\n",
       "      <th>3</th>\n",
       "      <td>8.0</td>\n",
       "      <td>0</td>\n",
       "      <td>Tadpole Playground</td>\n",
       "      <td>02108</td>\n",
       "    </tr>\n",
       "    <tr>\n",
       "      <th>4</th>\n",
       "      <td>7.8</td>\n",
       "      <td>0</td>\n",
       "      <td>Nichols House Museum</td>\n",
       "      <td>02108</td>\n",
       "    </tr>\n",
       "  </tbody>\n",
       "</table>\n",
       "</div>"
      ],
      "text/plain": [
       "   rating  price                  name postalCode\n",
       "0     8.7      0             Frog Pond      02108\n",
       "1     8.5      4            No. 9 Park      02108\n",
       "2     8.1      2  Union Club of Boston      02108\n",
       "3     8.0      0    Tadpole Playground      02108\n",
       "4     7.8      0  Nichols House Museum      02108"
      ]
     },
     "execution_count": 205,
     "metadata": {},
     "output_type": "execute_result"
    }
   ],
   "source": [
    "clustering_df=final_df.drop(['id'],1)\n",
    "clustering_df.head()"
   ]
  },
  {
   "cell_type": "code",
   "execution_count": 206,
   "metadata": {},
   "outputs": [
    {
     "data": {
      "text/html": [
       "<div>\n",
       "<style scoped>\n",
       "    .dataframe tbody tr th:only-of-type {\n",
       "        vertical-align: middle;\n",
       "    }\n",
       "\n",
       "    .dataframe tbody tr th {\n",
       "        vertical-align: top;\n",
       "    }\n",
       "\n",
       "    .dataframe thead th {\n",
       "        text-align: right;\n",
       "    }\n",
       "</style>\n",
       "<table border=\"1\" class=\"dataframe\">\n",
       "  <thead>\n",
       "    <tr style=\"text-align: right;\">\n",
       "      <th></th>\n",
       "      <th>postalCode</th>\n",
       "      <th>name</th>\n",
       "      <th>rating</th>\n",
       "      <th>price</th>\n",
       "    </tr>\n",
       "  </thead>\n",
       "  <tbody>\n",
       "    <tr>\n",
       "      <th>0</th>\n",
       "      <td>02108</td>\n",
       "      <td>Frog Pond</td>\n",
       "      <td>8.7</td>\n",
       "      <td>0</td>\n",
       "    </tr>\n",
       "    <tr>\n",
       "      <th>1</th>\n",
       "      <td>02108</td>\n",
       "      <td>No. 9 Park</td>\n",
       "      <td>8.5</td>\n",
       "      <td>4</td>\n",
       "    </tr>\n",
       "    <tr>\n",
       "      <th>2</th>\n",
       "      <td>02108</td>\n",
       "      <td>Union Club of Boston</td>\n",
       "      <td>8.1</td>\n",
       "      <td>2</td>\n",
       "    </tr>\n",
       "    <tr>\n",
       "      <th>3</th>\n",
       "      <td>02108</td>\n",
       "      <td>Tadpole Playground</td>\n",
       "      <td>8.0</td>\n",
       "      <td>0</td>\n",
       "    </tr>\n",
       "    <tr>\n",
       "      <th>4</th>\n",
       "      <td>02108</td>\n",
       "      <td>Nichols House Museum</td>\n",
       "      <td>7.8</td>\n",
       "      <td>0</td>\n",
       "    </tr>\n",
       "  </tbody>\n",
       "</table>\n",
       "</div>"
      ],
      "text/plain": [
       "  postalCode                  name  rating  price\n",
       "0      02108             Frog Pond     8.7      0\n",
       "1      02108            No. 9 Park     8.5      4\n",
       "2      02108  Union Club of Boston     8.1      2\n",
       "3      02108    Tadpole Playground     8.0      0\n",
       "4      02108  Nichols House Museum     7.8      0"
      ]
     },
     "execution_count": 206,
     "metadata": {},
     "output_type": "execute_result"
    }
   ],
   "source": [
    "clustering_df=clustering_df[['postalCode','name','rating','price']]\n",
    "clustering_df.head()"
   ]
  },
  {
   "cell_type": "code",
   "execution_count": 207,
   "metadata": {},
   "outputs": [
    {
     "data": {
      "text/html": [
       "<div>\n",
       "<style scoped>\n",
       "    .dataframe tbody tr th:only-of-type {\n",
       "        vertical-align: middle;\n",
       "    }\n",
       "\n",
       "    .dataframe tbody tr th {\n",
       "        vertical-align: top;\n",
       "    }\n",
       "\n",
       "    .dataframe thead th {\n",
       "        text-align: right;\n",
       "    }\n",
       "</style>\n",
       "<table border=\"1\" class=\"dataframe\">\n",
       "  <thead>\n",
       "    <tr style=\"text-align: right;\">\n",
       "      <th></th>\n",
       "      <th>postalCode</th>\n",
       "      <th>rating</th>\n",
       "      <th>price</th>\n",
       "    </tr>\n",
       "  </thead>\n",
       "  <tbody>\n",
       "    <tr>\n",
       "      <th>0</th>\n",
       "      <td>02108</td>\n",
       "      <td>8.7</td>\n",
       "      <td>0</td>\n",
       "    </tr>\n",
       "    <tr>\n",
       "      <th>1</th>\n",
       "      <td>02108</td>\n",
       "      <td>8.5</td>\n",
       "      <td>4</td>\n",
       "    </tr>\n",
       "    <tr>\n",
       "      <th>2</th>\n",
       "      <td>02108</td>\n",
       "      <td>8.1</td>\n",
       "      <td>2</td>\n",
       "    </tr>\n",
       "    <tr>\n",
       "      <th>3</th>\n",
       "      <td>02108</td>\n",
       "      <td>8.0</td>\n",
       "      <td>0</td>\n",
       "    </tr>\n",
       "    <tr>\n",
       "      <th>4</th>\n",
       "      <td>02108</td>\n",
       "      <td>7.8</td>\n",
       "      <td>0</td>\n",
       "    </tr>\n",
       "    <tr>\n",
       "      <th>5</th>\n",
       "      <td>02114</td>\n",
       "      <td>7.5</td>\n",
       "      <td>0</td>\n",
       "    </tr>\n",
       "    <tr>\n",
       "      <th>6</th>\n",
       "      <td>02108</td>\n",
       "      <td>7.2</td>\n",
       "      <td>0</td>\n",
       "    </tr>\n",
       "    <tr>\n",
       "      <th>7</th>\n",
       "      <td>02108</td>\n",
       "      <td>7.0</td>\n",
       "      <td>3</td>\n",
       "    </tr>\n",
       "    <tr>\n",
       "      <th>8</th>\n",
       "      <td>02114</td>\n",
       "      <td>7.0</td>\n",
       "      <td>1</td>\n",
       "    </tr>\n",
       "    <tr>\n",
       "      <th>9</th>\n",
       "      <td>02113</td>\n",
       "      <td>9.2</td>\n",
       "      <td>2</td>\n",
       "    </tr>\n",
       "    <tr>\n",
       "      <th>10</th>\n",
       "      <td>02113</td>\n",
       "      <td>9.2</td>\n",
       "      <td>2</td>\n",
       "    </tr>\n",
       "    <tr>\n",
       "      <th>11</th>\n",
       "      <td>02113</td>\n",
       "      <td>8.9</td>\n",
       "      <td>0</td>\n",
       "    </tr>\n",
       "    <tr>\n",
       "      <th>12</th>\n",
       "      <td>02113</td>\n",
       "      <td>8.9</td>\n",
       "      <td>0</td>\n",
       "    </tr>\n",
       "    <tr>\n",
       "      <th>13</th>\n",
       "      <td>02113</td>\n",
       "      <td>8.9</td>\n",
       "      <td>0</td>\n",
       "    </tr>\n",
       "    <tr>\n",
       "      <th>14</th>\n",
       "      <td>02113</td>\n",
       "      <td>8.9</td>\n",
       "      <td>0</td>\n",
       "    </tr>\n",
       "    <tr>\n",
       "      <th>15</th>\n",
       "      <td>02109</td>\n",
       "      <td>8.9</td>\n",
       "      <td>1</td>\n",
       "    </tr>\n",
       "    <tr>\n",
       "      <th>16</th>\n",
       "      <td>02113</td>\n",
       "      <td>8.9</td>\n",
       "      <td>3</td>\n",
       "    </tr>\n",
       "    <tr>\n",
       "      <th>17</th>\n",
       "      <td>02113</td>\n",
       "      <td>8.8</td>\n",
       "      <td>2</td>\n",
       "    </tr>\n",
       "    <tr>\n",
       "      <th>18</th>\n",
       "      <td>02113</td>\n",
       "      <td>8.8</td>\n",
       "      <td>2</td>\n",
       "    </tr>\n",
       "    <tr>\n",
       "      <th>19</th>\n",
       "      <td>02113</td>\n",
       "      <td>8.7</td>\n",
       "      <td>1</td>\n",
       "    </tr>\n",
       "    <tr>\n",
       "      <th>20</th>\n",
       "      <td>02113</td>\n",
       "      <td>8.7</td>\n",
       "      <td>1</td>\n",
       "    </tr>\n",
       "    <tr>\n",
       "      <th>21</th>\n",
       "      <td>02113</td>\n",
       "      <td>8.7</td>\n",
       "      <td>3</td>\n",
       "    </tr>\n",
       "    <tr>\n",
       "      <th>22</th>\n",
       "      <td>02113</td>\n",
       "      <td>8.7</td>\n",
       "      <td>1</td>\n",
       "    </tr>\n",
       "    <tr>\n",
       "      <th>23</th>\n",
       "      <td>02113</td>\n",
       "      <td>8.6</td>\n",
       "      <td>3</td>\n",
       "    </tr>\n",
       "    <tr>\n",
       "      <th>24</th>\n",
       "      <td>02110</td>\n",
       "      <td>9.5</td>\n",
       "      <td>0</td>\n",
       "    </tr>\n",
       "    <tr>\n",
       "      <th>25</th>\n",
       "      <td>02110</td>\n",
       "      <td>9.0</td>\n",
       "      <td>0</td>\n",
       "    </tr>\n",
       "    <tr>\n",
       "      <th>26</th>\n",
       "      <td>02109</td>\n",
       "      <td>8.5</td>\n",
       "      <td>2</td>\n",
       "    </tr>\n",
       "    <tr>\n",
       "      <th>27</th>\n",
       "      <td>02109</td>\n",
       "      <td>8.4</td>\n",
       "      <td>2</td>\n",
       "    </tr>\n",
       "    <tr>\n",
       "      <th>28</th>\n",
       "      <td>NaN</td>\n",
       "      <td>8.4</td>\n",
       "      <td>0</td>\n",
       "    </tr>\n",
       "    <tr>\n",
       "      <th>29</th>\n",
       "      <td>02109</td>\n",
       "      <td>8.3</td>\n",
       "      <td>0</td>\n",
       "    </tr>\n",
       "    <tr>\n",
       "      <th>...</th>\n",
       "      <td>...</td>\n",
       "      <td>...</td>\n",
       "      <td>...</td>\n",
       "    </tr>\n",
       "    <tr>\n",
       "      <th>77</th>\n",
       "      <td>02199</td>\n",
       "      <td>9.0</td>\n",
       "      <td>0</td>\n",
       "    </tr>\n",
       "    <tr>\n",
       "      <th>78</th>\n",
       "      <td>02199</td>\n",
       "      <td>9.0</td>\n",
       "      <td>1</td>\n",
       "    </tr>\n",
       "    <tr>\n",
       "      <th>79</th>\n",
       "      <td>02116</td>\n",
       "      <td>8.9</td>\n",
       "      <td>0</td>\n",
       "    </tr>\n",
       "    <tr>\n",
       "      <th>80</th>\n",
       "      <td>02116</td>\n",
       "      <td>8.8</td>\n",
       "      <td>3</td>\n",
       "    </tr>\n",
       "    <tr>\n",
       "      <th>81</th>\n",
       "      <td>02199</td>\n",
       "      <td>8.8</td>\n",
       "      <td>1</td>\n",
       "    </tr>\n",
       "    <tr>\n",
       "      <th>82</th>\n",
       "      <td>02116</td>\n",
       "      <td>8.8</td>\n",
       "      <td>0</td>\n",
       "    </tr>\n",
       "    <tr>\n",
       "      <th>83</th>\n",
       "      <td>02115</td>\n",
       "      <td>8.7</td>\n",
       "      <td>3</td>\n",
       "    </tr>\n",
       "    <tr>\n",
       "      <th>84</th>\n",
       "      <td>02108</td>\n",
       "      <td>9.0</td>\n",
       "      <td>0</td>\n",
       "    </tr>\n",
       "    <tr>\n",
       "      <th>85</th>\n",
       "      <td>02108</td>\n",
       "      <td>8.9</td>\n",
       "      <td>1</td>\n",
       "    </tr>\n",
       "    <tr>\n",
       "      <th>86</th>\n",
       "      <td>02108</td>\n",
       "      <td>8.8</td>\n",
       "      <td>3</td>\n",
       "    </tr>\n",
       "    <tr>\n",
       "      <th>87</th>\n",
       "      <td>02108</td>\n",
       "      <td>8.4</td>\n",
       "      <td>1</td>\n",
       "    </tr>\n",
       "    <tr>\n",
       "      <th>88</th>\n",
       "      <td>02108</td>\n",
       "      <td>8.4</td>\n",
       "      <td>1</td>\n",
       "    </tr>\n",
       "    <tr>\n",
       "      <th>89</th>\n",
       "      <td>02108</td>\n",
       "      <td>8.3</td>\n",
       "      <td>3</td>\n",
       "    </tr>\n",
       "    <tr>\n",
       "      <th>90</th>\n",
       "      <td>02108</td>\n",
       "      <td>8.2</td>\n",
       "      <td>1</td>\n",
       "    </tr>\n",
       "    <tr>\n",
       "      <th>91</th>\n",
       "      <td>02108</td>\n",
       "      <td>8.2</td>\n",
       "      <td>2</td>\n",
       "    </tr>\n",
       "    <tr>\n",
       "      <th>92</th>\n",
       "      <td>02108</td>\n",
       "      <td>8.2</td>\n",
       "      <td>0</td>\n",
       "    </tr>\n",
       "    <tr>\n",
       "      <th>93</th>\n",
       "      <td>02108</td>\n",
       "      <td>8.1</td>\n",
       "      <td>3</td>\n",
       "    </tr>\n",
       "    <tr>\n",
       "      <th>94</th>\n",
       "      <td>02210</td>\n",
       "      <td>8.7</td>\n",
       "      <td>3</td>\n",
       "    </tr>\n",
       "    <tr>\n",
       "      <th>95</th>\n",
       "      <td>02210</td>\n",
       "      <td>8.7</td>\n",
       "      <td>4</td>\n",
       "    </tr>\n",
       "    <tr>\n",
       "      <th>96</th>\n",
       "      <td>02210</td>\n",
       "      <td>8.4</td>\n",
       "      <td>3</td>\n",
       "    </tr>\n",
       "    <tr>\n",
       "      <th>97</th>\n",
       "      <td>02210</td>\n",
       "      <td>8.2</td>\n",
       "      <td>4</td>\n",
       "    </tr>\n",
       "    <tr>\n",
       "      <th>98</th>\n",
       "      <td>02210</td>\n",
       "      <td>8.0</td>\n",
       "      <td>4</td>\n",
       "    </tr>\n",
       "    <tr>\n",
       "      <th>99</th>\n",
       "      <td>02210</td>\n",
       "      <td>8.0</td>\n",
       "      <td>2</td>\n",
       "    </tr>\n",
       "    <tr>\n",
       "      <th>100</th>\n",
       "      <td>02210</td>\n",
       "      <td>8.0</td>\n",
       "      <td>2</td>\n",
       "    </tr>\n",
       "    <tr>\n",
       "      <th>101</th>\n",
       "      <td>02210</td>\n",
       "      <td>7.7</td>\n",
       "      <td>2</td>\n",
       "    </tr>\n",
       "    <tr>\n",
       "      <th>102</th>\n",
       "      <td>02210</td>\n",
       "      <td>7.7</td>\n",
       "      <td>0</td>\n",
       "    </tr>\n",
       "    <tr>\n",
       "      <th>103</th>\n",
       "      <td>02210</td>\n",
       "      <td>7.5</td>\n",
       "      <td>2</td>\n",
       "    </tr>\n",
       "    <tr>\n",
       "      <th>104</th>\n",
       "      <td>02215</td>\n",
       "      <td>8.2</td>\n",
       "      <td>2</td>\n",
       "    </tr>\n",
       "    <tr>\n",
       "      <th>105</th>\n",
       "      <td>02215</td>\n",
       "      <td>7.2</td>\n",
       "      <td>0</td>\n",
       "    </tr>\n",
       "    <tr>\n",
       "      <th>106</th>\n",
       "      <td>02215</td>\n",
       "      <td>6.3</td>\n",
       "      <td>1</td>\n",
       "    </tr>\n",
       "  </tbody>\n",
       "</table>\n",
       "<p>107 rows × 3 columns</p>\n",
       "</div>"
      ],
      "text/plain": [
       "    postalCode  rating  price\n",
       "0        02108     8.7      0\n",
       "1        02108     8.5      4\n",
       "2        02108     8.1      2\n",
       "3        02108     8.0      0\n",
       "4        02108     7.8      0\n",
       "5        02114     7.5      0\n",
       "6        02108     7.2      0\n",
       "7        02108     7.0      3\n",
       "8        02114     7.0      1\n",
       "9        02113     9.2      2\n",
       "10       02113     9.2      2\n",
       "11       02113     8.9      0\n",
       "12       02113     8.9      0\n",
       "13       02113     8.9      0\n",
       "14       02113     8.9      0\n",
       "15       02109     8.9      1\n",
       "16       02113     8.9      3\n",
       "17       02113     8.8      2\n",
       "18       02113     8.8      2\n",
       "19       02113     8.7      1\n",
       "20       02113     8.7      1\n",
       "21       02113     8.7      3\n",
       "22       02113     8.7      1\n",
       "23       02113     8.6      3\n",
       "24       02110     9.5      0\n",
       "25       02110     9.0      0\n",
       "26       02109     8.5      2\n",
       "27       02109     8.4      2\n",
       "28         NaN     8.4      0\n",
       "29       02109     8.3      0\n",
       "..         ...     ...    ...\n",
       "77       02199     9.0      0\n",
       "78       02199     9.0      1\n",
       "79       02116     8.9      0\n",
       "80       02116     8.8      3\n",
       "81       02199     8.8      1\n",
       "82       02116     8.8      0\n",
       "83       02115     8.7      3\n",
       "84       02108     9.0      0\n",
       "85       02108     8.9      1\n",
       "86       02108     8.8      3\n",
       "87       02108     8.4      1\n",
       "88       02108     8.4      1\n",
       "89       02108     8.3      3\n",
       "90       02108     8.2      1\n",
       "91       02108     8.2      2\n",
       "92       02108     8.2      0\n",
       "93       02108     8.1      3\n",
       "94       02210     8.7      3\n",
       "95       02210     8.7      4\n",
       "96       02210     8.4      3\n",
       "97       02210     8.2      4\n",
       "98       02210     8.0      4\n",
       "99       02210     8.0      2\n",
       "100      02210     8.0      2\n",
       "101      02210     7.7      2\n",
       "102      02210     7.7      0\n",
       "103      02210     7.5      2\n",
       "104      02215     8.2      2\n",
       "105      02215     7.2      0\n",
       "106      02215     6.3      1\n",
       "\n",
       "[107 rows x 3 columns]"
      ]
     },
     "execution_count": 207,
     "metadata": {},
     "output_type": "execute_result"
    }
   ],
   "source": [
    "clustering_df.drop('name',1)"
   ]
  },
  {
   "cell_type": "code",
   "execution_count": 208,
   "metadata": {},
   "outputs": [],
   "source": [
    "zip_to_num=pd.factorize(clustering_df['postalCode'])\n",
    "clustering_df['postalCode']=zip_to_num[0] #convert zipcodes to numbers"
   ]
  },
  {
   "cell_type": "code",
   "execution_count": 209,
   "metadata": {},
   "outputs": [],
   "source": [
    "data=clustering_df.drop('name',1)"
   ]
  },
  {
   "cell_type": "markdown",
   "metadata": {},
   "source": [
    "Now we can go ahead an fit our data into the kmeans. I'll try to split the data into 3 different clusters."
   ]
  },
  {
   "cell_type": "code",
   "execution_count": 210,
   "metadata": {},
   "outputs": [],
   "source": [
    "k=3\n",
    "kmeans = KMeans(n_clusters=k, random_state=0).fit(data)"
   ]
  },
  {
   "cell_type": "code",
   "execution_count": 211,
   "metadata": {},
   "outputs": [],
   "source": [
    "clustering_df['ClusterLabels']=kmeans.labels_ #add a column with the label names"
   ]
  },
  {
   "cell_type": "code",
   "execution_count": 245,
   "metadata": {},
   "outputs": [],
   "source": [
    "final_df['zip_to_num']=zip_to_num[0]\n",
    "labels_zip=final_df[['postalCode','zip_to_num']]\n",
    "labels_zip=labels_zip.groupby('postalCode').mean()"
   ]
  },
  {
   "cell_type": "markdown",
   "metadata": {},
   "source": [
    "### Cluster 0"
   ]
  },
  {
   "cell_type": "code",
   "execution_count": 239,
   "metadata": {},
   "outputs": [
    {
     "data": {
      "text/html": [
       "<div>\n",
       "<style scoped>\n",
       "    .dataframe tbody tr th:only-of-type {\n",
       "        vertical-align: middle;\n",
       "    }\n",
       "\n",
       "    .dataframe tbody tr th {\n",
       "        vertical-align: top;\n",
       "    }\n",
       "\n",
       "    .dataframe thead th {\n",
       "        text-align: right;\n",
       "    }\n",
       "</style>\n",
       "<table border=\"1\" class=\"dataframe\">\n",
       "  <thead>\n",
       "    <tr style=\"text-align: right;\">\n",
       "      <th></th>\n",
       "      <th>postalCode</th>\n",
       "      <th>name</th>\n",
       "      <th>rating</th>\n",
       "      <th>price</th>\n",
       "      <th>ClusterLabels</th>\n",
       "    </tr>\n",
       "  </thead>\n",
       "  <tbody>\n",
       "    <tr>\n",
       "      <th>24</th>\n",
       "      <td>4</td>\n",
       "      <td>The Rose Kennedy Greenway</td>\n",
       "      <td>9.5</td>\n",
       "      <td>0</td>\n",
       "      <td>0</td>\n",
       "    </tr>\n",
       "    <tr>\n",
       "      <th>25</th>\n",
       "      <td>4</td>\n",
       "      <td>Aquarium Seal Tank</td>\n",
       "      <td>9.0</td>\n",
       "      <td>0</td>\n",
       "      <td>0</td>\n",
       "    </tr>\n",
       "    <tr>\n",
       "      <th>33</th>\n",
       "      <td>4</td>\n",
       "      <td>Boston Duck Tour (New England Aquarium location)</td>\n",
       "      <td>7.9</td>\n",
       "      <td>0</td>\n",
       "      <td>0</td>\n",
       "    </tr>\n",
       "    <tr>\n",
       "      <th>34</th>\n",
       "      <td>5</td>\n",
       "      <td>Shabu Zen</td>\n",
       "      <td>9.0</td>\n",
       "      <td>2</td>\n",
       "      <td>0</td>\n",
       "    </tr>\n",
       "    <tr>\n",
       "      <th>35</th>\n",
       "      <td>5</td>\n",
       "      <td>La Colombe Torrefaction</td>\n",
       "      <td>8.9</td>\n",
       "      <td>1</td>\n",
       "      <td>0</td>\n",
       "    </tr>\n",
       "  </tbody>\n",
       "</table>\n",
       "</div>"
      ],
      "text/plain": [
       "    postalCode                                              name  rating  \\\n",
       "24           4                         The Rose Kennedy Greenway     9.5   \n",
       "25           4                                Aquarium Seal Tank     9.0   \n",
       "33           4  Boston Duck Tour (New England Aquarium location)     7.9   \n",
       "34           5                                         Shabu Zen     9.0   \n",
       "35           5                           La Colombe Torrefaction     8.9   \n",
       "\n",
       "    price  ClusterLabels  \n",
       "24      0              0  \n",
       "25      0              0  \n",
       "33      0              0  \n",
       "34      2              0  \n",
       "35      1              0  "
      ]
     },
     "execution_count": 239,
     "metadata": {},
     "output_type": "execute_result"
    }
   ],
   "source": [
    "clustering_df[clustering_df['ClusterLabels']==0].head()"
   ]
  },
  {
   "cell_type": "code",
   "execution_count": 176,
   "metadata": {},
   "outputs": [],
   "source": [
    "cluster_0_price=clustering_df[clustering_df['ClusterLabels']==0].groupby('price').count()"
   ]
  },
  {
   "cell_type": "code",
   "execution_count": 190,
   "metadata": {},
   "outputs": [
    {
     "data": {
      "text/plain": [
       "Text(0.5, 0, 'Price Tier')"
      ]
     },
     "execution_count": 190,
     "metadata": {},
     "output_type": "execute_result"
    },
    {
     "data": {
      "image/png": "[encoded data removed]",
      "text/plain": [
       "<Figure size 640x480 with 1 Axes>"
      ]
     },
     "metadata": {},
     "output_type": "display_data"
    }
   ],
   "source": [
    "x=cluster_0_price.index\n",
    "y=cluster_0_price['postalCode']\n",
    "\n",
    "plt.bar(x, y, align='center', alpha=0.5)\n",
    "plt.ylabel('Venue count')\n",
    "plt.xlabel('Price Tier')"
   ]
  },
  {
   "cell_type": "markdown",
   "metadata": {},
   "source": [
    "From this bar chart, we can say that in cluster 0 most venues are \"cheap\""
   ]
  },
  {
   "cell_type": "code",
   "execution_count": 182,
   "metadata": {},
   "outputs": [],
   "source": [
    "cluster_0_rating=clustering_df[clustering_df['ClusterLabels']==0].groupby('rating').count()"
   ]
  },
  {
   "cell_type": "code",
   "execution_count": 192,
   "metadata": {},
   "outputs": [
    {
     "data": {
      "text/plain": [
       "Text(0.5, 0, 'Rating')"
      ]
     },
     "execution_count": 192,
     "metadata": {},
     "output_type": "execute_result"
    },
    {
     "data": {
      "image/png": "[encoded data removed]",
      "text/plain": [
       "<Figure size 640x480 with 1 Axes>"
      ]
     },
     "metadata": {},
     "output_type": "display_data"
    }
   ],
   "source": [
    "x=cluster_0_rating.index\n",
    "y=cluster_0_rating['postalCode']\n",
    "\n",
    "plt.bar(x, y, align='center')\n",
    "plt.ylabel('Venue count')\n",
    "plt.xlabel('Rating')"
   ]
  },
  {
   "cell_type": "markdown",
   "metadata": {},
   "source": [
    "From this bar chart, we can say that most venues in this cluster are scored between 8.5 and 9.5."
   ]
  },
  {
   "cell_type": "code",
   "execution_count": 248,
   "metadata": {},
   "outputs": [
    {
     "name": "stdout",
     "output_type": "stream",
     "text": [
      "These are the zipcodes belonging to the cluster:\n",
      "02110\n",
      "02111\n",
      "02115\n",
      "02215\n",
      "02116\n",
      "02130\n"
     ]
    }
   ],
   "source": [
    "cluster_0_zip=clustering_df[clustering_df['ClusterLabels']==0]['postalCode'].unique()\n",
    "print('These are the zipcodes belonging to the cluster:')\n",
    "for i in cluster_0_zip:\n",
    "    print(labels_zip[labels_zip['zip_to_num']==i].index[0])"
   ]
  },
  {
   "cell_type": "markdown",
   "metadata": {},
   "source": [
    "### Cluster 1"
   ]
  },
  {
   "cell_type": "code",
   "execution_count": 164,
   "metadata": {},
   "outputs": [
    {
     "data": {
      "text/html": [
       "<div>\n",
       "<style scoped>\n",
       "    .dataframe tbody tr th:only-of-type {\n",
       "        vertical-align: middle;\n",
       "    }\n",
       "\n",
       "    .dataframe tbody tr th {\n",
       "        vertical-align: top;\n",
       "    }\n",
       "\n",
       "    .dataframe thead th {\n",
       "        text-align: right;\n",
       "    }\n",
       "</style>\n",
       "<table border=\"1\" class=\"dataframe\">\n",
       "  <thead>\n",
       "    <tr style=\"text-align: right;\">\n",
       "      <th></th>\n",
       "      <th>postalCode</th>\n",
       "      <th>name</th>\n",
       "      <th>rating</th>\n",
       "      <th>price</th>\n",
       "      <th>ClusterLabels</th>\n",
       "    </tr>\n",
       "  </thead>\n",
       "  <tbody>\n",
       "    <tr>\n",
       "      <th>71</th>\n",
       "      <td>11</td>\n",
       "      <td>Estragon Tapas</td>\n",
       "      <td>7.6</td>\n",
       "      <td>3</td>\n",
       "      <td>1</td>\n",
       "    </tr>\n",
       "    <tr>\n",
       "      <th>72</th>\n",
       "      <td>11</td>\n",
       "      <td>Dunkin'</td>\n",
       "      <td>6.5</td>\n",
       "      <td>1</td>\n",
       "      <td>1</td>\n",
       "    </tr>\n",
       "    <tr>\n",
       "      <th>73</th>\n",
       "      <td>11</td>\n",
       "      <td>Harrison Urban Garden</td>\n",
       "      <td>0.0</td>\n",
       "      <td>0</td>\n",
       "      <td>1</td>\n",
       "    </tr>\n",
       "    <tr>\n",
       "      <th>74</th>\n",
       "      <td>12</td>\n",
       "      <td>Eataly Boston</td>\n",
       "      <td>9.1</td>\n",
       "      <td>0</td>\n",
       "      <td>1</td>\n",
       "    </tr>\n",
       "    <tr>\n",
       "      <th>75</th>\n",
       "      <td>12</td>\n",
       "      <td>La Pizza &amp; La Pasta</td>\n",
       "      <td>9.1</td>\n",
       "      <td>2</td>\n",
       "      <td>1</td>\n",
       "    </tr>\n",
       "  </tbody>\n",
       "</table>\n",
       "</div>"
      ],
      "text/plain": [
       "    postalCode                   name  rating  price  ClusterLabels\n",
       "71          11         Estragon Tapas     7.6      3              1\n",
       "72          11                Dunkin'     6.5      1              1\n",
       "73          11  Harrison Urban Garden     0.0      0              1\n",
       "74          12          Eataly Boston     9.1      0              1\n",
       "75          12    La Pizza & La Pasta     9.1      2              1"
      ]
     },
     "execution_count": 164,
     "metadata": {},
     "output_type": "execute_result"
    }
   ],
   "source": [
    "clustering_df[clustering_df['ClusterLabels']==1].head()"
   ]
  },
  {
   "cell_type": "code",
   "execution_count": 185,
   "metadata": {},
   "outputs": [],
   "source": [
    "cluster_1_price=clustering_df[clustering_df['ClusterLabels']==1].groupby('price').count()"
   ]
  },
  {
   "cell_type": "code",
   "execution_count": 193,
   "metadata": {},
   "outputs": [
    {
     "data": {
      "text/plain": [
       "Text(0.5, 0, 'Price Tier')"
      ]
     },
     "execution_count": 193,
     "metadata": {},
     "output_type": "execute_result"
    },
    {
     "data": {
      "image/png": "[encoded data removed]",
      "text/plain": [
       "<Figure size 640x480 with 1 Axes>"
      ]
     },
     "metadata": {},
     "output_type": "display_data"
    }
   ],
   "source": [
    "x=cluster_1_price.index\n",
    "y=cluster_1_price['postalCode']\n",
    "\n",
    "plt.bar(x, y, align='center', alpha=0.5)\n",
    "plt.ylabel('Venue count')\n",
    "plt.xlabel('Price Tier')"
   ]
  },
  {
   "cell_type": "markdown",
   "metadata": {},
   "source": [
    "Most venues in this cluster have an \"average price\""
   ]
  },
  {
   "cell_type": "code",
   "execution_count": 186,
   "metadata": {},
   "outputs": [],
   "source": [
    "cluster_1_rating=clustering_df[clustering_df['ClusterLabels']==1].groupby('rating').count()"
   ]
  },
  {
   "cell_type": "code",
   "execution_count": 194,
   "metadata": {},
   "outputs": [
    {
     "data": {
      "text/plain": [
       "Text(0.5, 0, 'Rating')"
      ]
     },
     "execution_count": 194,
     "metadata": {},
     "output_type": "execute_result"
    },
    {
     "data": {
      "image/png": "[encoded data removed]",
      "text/plain": [
       "<Figure size 640x480 with 1 Axes>"
      ]
     },
     "metadata": {},
     "output_type": "display_data"
    }
   ],
   "source": [
    "x=cluster_1_rating.index\n",
    "y=cluster_1_rating['postalCode']\n",
    "\n",
    "plt.bar(x, y, align='center')\n",
    "plt.ylabel('Venue count')\n",
    "plt.xlabel('Rating')"
   ]
  },
  {
   "cell_type": "markdown",
   "metadata": {},
   "source": [
    "The venues in this cluster clearly have a wide variability when it comes to ratings. However, most of these venues score around 8 and 9.5"
   ]
  },
  {
   "cell_type": "code",
   "execution_count": 249,
   "metadata": {},
   "outputs": [
    {
     "name": "stdout",
     "output_type": "stream",
     "text": [
      "These are the zipcodes belonging to the cluster:\n",
      "02118\n",
      "02199\n",
      "02210\n"
     ]
    }
   ],
   "source": [
    "cluster_1_zip=clustering_df[clustering_df['ClusterLabels']==1]['postalCode'].unique()\n",
    "print('These are the zipcodes belonging to the cluster:')\n",
    "for i in cluster_1_zip:\n",
    "    print(labels_zip[labels_zip['zip_to_num']==i].index[0])"
   ]
  },
  {
   "cell_type": "markdown",
   "metadata": {},
   "source": [
    "### Cluster 2"
   ]
  },
  {
   "cell_type": "code",
   "execution_count": 167,
   "metadata": {},
   "outputs": [
    {
     "data": {
      "text/html": [
       "<div>\n",
       "<style scoped>\n",
       "    .dataframe tbody tr th:only-of-type {\n",
       "        vertical-align: middle;\n",
       "    }\n",
       "\n",
       "    .dataframe tbody tr th {\n",
       "        vertical-align: top;\n",
       "    }\n",
       "\n",
       "    .dataframe thead th {\n",
       "        text-align: right;\n",
       "    }\n",
       "</style>\n",
       "<table border=\"1\" class=\"dataframe\">\n",
       "  <thead>\n",
       "    <tr style=\"text-align: right;\">\n",
       "      <th></th>\n",
       "      <th>postalCode</th>\n",
       "      <th>name</th>\n",
       "      <th>rating</th>\n",
       "      <th>price</th>\n",
       "      <th>ClusterLabels</th>\n",
       "    </tr>\n",
       "  </thead>\n",
       "  <tbody>\n",
       "    <tr>\n",
       "      <th>28</th>\n",
       "      <td>5</td>\n",
       "      <td>Top Of The Tank</td>\n",
       "      <td>8.4</td>\n",
       "      <td>0</td>\n",
       "      <td>2</td>\n",
       "    </tr>\n",
       "    <tr>\n",
       "      <th>34</th>\n",
       "      <td>6</td>\n",
       "      <td>Shabu Zen</td>\n",
       "      <td>9.0</td>\n",
       "      <td>2</td>\n",
       "      <td>2</td>\n",
       "    </tr>\n",
       "    <tr>\n",
       "      <th>35</th>\n",
       "      <td>6</td>\n",
       "      <td>La Colombe Torrefaction</td>\n",
       "      <td>8.9</td>\n",
       "      <td>1</td>\n",
       "      <td>2</td>\n",
       "    </tr>\n",
       "    <tr>\n",
       "      <th>36</th>\n",
       "      <td>6</td>\n",
       "      <td>Gracenote Coffee</td>\n",
       "      <td>8.8</td>\n",
       "      <td>2</td>\n",
       "      <td>2</td>\n",
       "    </tr>\n",
       "    <tr>\n",
       "      <th>37</th>\n",
       "      <td>6</td>\n",
       "      <td>Shojo</td>\n",
       "      <td>8.6</td>\n",
       "      <td>2</td>\n",
       "      <td>2</td>\n",
       "    </tr>\n",
       "  </tbody>\n",
       "</table>\n",
       "</div>"
      ],
      "text/plain": [
       "    postalCode                     name  rating  price  ClusterLabels\n",
       "28           5          Top Of The Tank     8.4      0              2\n",
       "34           6                Shabu Zen     9.0      2              2\n",
       "35           6  La Colombe Torrefaction     8.9      1              2\n",
       "36           6         Gracenote Coffee     8.8      2              2\n",
       "37           6                    Shojo     8.6      2              2"
      ]
     },
     "execution_count": 167,
     "metadata": {},
     "output_type": "execute_result"
    }
   ],
   "source": [
    "clustering_df[clustering_df['ClusterLabels']==2].head()"
   ]
  },
  {
   "cell_type": "code",
   "execution_count": 187,
   "metadata": {},
   "outputs": [],
   "source": [
    "cluster_2_price=clustering_df[clustering_df['ClusterLabels']==2].groupby('price').count()"
   ]
  },
  {
   "cell_type": "code",
   "execution_count": 195,
   "metadata": {},
   "outputs": [
    {
     "data": {
      "text/plain": [
       "Text(0.5, 0, 'Price Tier')"
      ]
     },
     "execution_count": 195,
     "metadata": {},
     "output_type": "execute_result"
    },
    {
     "data": {
      "image/png": "[encoded data removed]",
      "text/plain": [
       "<Figure size 640x480 with 1 Axes>"
      ]
     },
     "metadata": {},
     "output_type": "display_data"
    }
   ],
   "source": [
    "x=cluster_2_price.index\n",
    "y=cluster_2_price['postalCode']\n",
    "\n",
    "plt.bar(x, y, align='center', alpha=0.5)\n",
    "plt.ylabel('Venue count')\n",
    "plt.xlabel('Price Tier')"
   ]
  },
  {
   "cell_type": "markdown",
   "metadata": {},
   "source": [
    "The venues in this cluster range from very cheap to average pricing."
   ]
  },
  {
   "cell_type": "code",
   "execution_count": 196,
   "metadata": {},
   "outputs": [],
   "source": [
    "cluster_2_rating=clustering_df[clustering_df['ClusterLabels']==2].groupby('rating').count()"
   ]
  },
  {
   "cell_type": "code",
   "execution_count": 197,
   "metadata": {},
   "outputs": [
    {
     "data": {
      "text/plain": [
       "Text(0.5, 0, 'Rating')"
      ]
     },
     "execution_count": 197,
     "metadata": {},
     "output_type": "execute_result"
    },
    {
     "data": {
      "image/png": "[encoded data removed]",
      "text/plain": [
       "<Figure size 640x480 with 1 Axes>"
      ]
     },
     "metadata": {},
     "output_type": "display_data"
    }
   ],
   "source": [
    "x=cluster_2_rating.index\n",
    "y=cluster_2_rating['postalCode']\n",
    "\n",
    "plt.bar(x, y, align='center')\n",
    "plt.ylabel('Venue count')\n",
    "plt.xlabel('Rating')"
   ]
  },
  {
   "cell_type": "markdown",
   "metadata": {},
   "source": [
    "Most venues score at least 9 in this cluster."
   ]
  },
  {
   "cell_type": "code",
   "execution_count": 254,
   "metadata": {},
   "outputs": [
    {
     "name": "stdout",
     "output_type": "stream",
     "text": [
      "These are the zipcodes belonging to the cluster:\n",
      "02108\n",
      "02114\n",
      "02113\n",
      "02109\n",
      "\n"
     ]
    }
   ],
   "source": [
    "cluster_2_zip=clustering_df[clustering_df['ClusterLabels']==2]['postalCode'].unique()\n",
    "print('These are the zipcodes belonging to the cluster:')\n",
    "for i in cluster_2_zip:\n",
    "    try:\n",
    "        print(labels_zip[labels_zip['zip_to_num']==i].index[0])\n",
    "    except:\n",
    "        print(\"\")"
   ]
  },
  {
   "cell_type": "markdown",
   "metadata": {},
   "source": [
    "## 5. Discussion\n",
    "\n",
    "Based on this analysis, I'd recommend to the visitors to check out the neighborhoods in the third cluster. The venues contained in this cluster are highly rated and most of them are within very cheap to average price pricing according to reviewers.\n",
    "\n",
    "It is also interesting to note that in most venues are contained in this venue, which might mean that these nieghborhoods are the most popular ones in Boston. \n"
   ]
  },
  {
   "cell_type": "markdown",
   "metadata": {},
   "source": [
    "## 6. Conclusion"
   ]
  },
  {
   "cell_type": "markdown",
   "metadata": {},
   "source": [
    "With this project, I used Foursquare API data and US zipcodes dataset to cluster neighborhoods in Boston, MA based on the price and ratings of the venues in the neighborhoods.\n",
    "\n",
    "After getting the data and preparing it, I split the data into three clusters. Based on this analysis, the neighborhoods with zipcodes 2108, 2114, 2113 and 2109 seem to be the best option for visitors. It also seems to have major number of venues.\n",
    "\n",
    "Future work could zoom into these neighborhoods to analyze the categories of the venues in these areas. "
   ]
  },
  {
   "cell_type": "code",
   "execution_count": null,
   "metadata": {},
   "outputs": [],
   "source": []
  }
 ],
 "metadata": {
  "kernelspec": {
   "display_name": "Python 3",
   "language": "python",
   "name": "python3"
  },
  "language_info": {
   "codemirror_mode": {
    "name": "ipython",
    "version": 3
   },
   "file_extension": ".py",
   "mimetype": "text/x-python",
   "name": "python",
   "nbconvert_exporter": "python",
   "pygments_lexer": "ipython3",
   "version": "3.7.1"
  }
 },
 "nbformat": 4,
 "nbformat_minor": 2
}
